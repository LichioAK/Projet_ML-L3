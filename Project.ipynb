{
 "cells": [
  {
   "cell_type": "markdown",
   "source": [
    "Regression linéaire avec toutes les variables:"
   ],
   "metadata": {
    "collapsed": false
   }
  },
  {
   "cell_type": "code",
   "execution_count": null,
   "metadata": {
    "collapsed": true
   },
   "outputs": [],
   "source": [
    "from sklearn.metrics import r2_score, mean_squared_error\n",
    "from sklearn.model_selection import train_test_split\n",
    "import numpy as np\n",
    "import pandas as pd\n",
    "import seaborn as sns\n",
    "import matplotlib.pyplot as plt\n",
    "from sklearn.linear_model import LinearRegression\n",
    "\n",
    "Data_X = pd.read_csv('Data_X.csv')\n",
    "Data_Y = pd.read_csv('Data_Y.csv')\n",
    "\n",
    "lin = LinearRegression()\n",
    "X_train, X_test, y_train, y_test = train_test_split(Data_X, Data_Y, test_size=0.1, random_state=42)\n",
    "lin.fit(X_train, y_train)\n",
    "\n",
    "lin.score(X_train, y_train)\n",
    "\n",
    "print(\"R2 Score\", r2_score(y_test, lin.predict(X_test)))\n",
    "print(\"MSE(Train)\" ,mean_squared_error(y_train, lin.predict(X_train)))\n",
    "\n",
    "To_save = pd.DataFrame()\n",
    "\n",
    "To_save['ID'] =  Data_N[\"ID\"]\n",
    "res = []\n",
    "for i in range(len(To_save)):\n",
    "    res.append(lin.predict([Data_N.iloc[i, :]])[0])\n"
   ]
  },
  {
   "cell_type": "markdown",
   "source": [],
   "metadata": {
    "collapsed": false
   }
  },
  {
   "cell_type": "markdown",
   "source": [
    "Regression de RIDGE avec toutes les variables:"
   ],
   "metadata": {
    "collapsed": false
   }
  },
  {
   "cell_type": "code",
   "execution_count": 1,
   "outputs": [
    {
     "ename": "SyntaxError",
     "evalue": "invalid decimal literal (1420857375.py, line 3)",
     "output_type": "error",
     "traceback": [
      "\u001B[1;36m  Cell \u001B[1;32mIn[1], line 3\u001B[1;36m\u001B[0m\n\u001B[1;33m    1st = np.linspace(6.681, 1008, 1868).tolist\u001B[0m\n\u001B[1;37m    ^\u001B[0m\n\u001B[1;31mSyntaxError\u001B[0m\u001B[1;31m:\u001B[0m invalid decimal literal\n"
     ]
    }
   ],
   "source": [
    "from sklearn.model_selection import train_test_split\n",
    "import numpy as np\n",
    "import pandas as pd\n",
    "import seaborn as sns\n",
    "import matplotlib.pyplot as plt\n",
    "from sklearn.linear_model import LinearRegression, Ridge\n",
    "\n",
    "Data_Y = pd.read_csv('Data_Y.csv')\n",
    "\n",
    "\n",
    "X_train, X_test, y_train, y_test = train_test_split(Data_X, Data_Y, test_size=0.3, random_state=42)\n",
    "r=[]\n",
    "lst = np.linspace(6.681, 1000, 1868).tolist()\n",
    "\n",
    "\n",
    "for alf in tqdm(lst):\n",
    "    rid = Ridge(alf).fit(X_train, y_train)\n",
    "    r2 = r2_score(y_test, rid.predict(X_test))\n",
    "    r.append({'beta': alf, 'r2': r2})\n",
    "\n",
    "df = pd.DataFrame(r)\n",
    "plt.figure(figsize=(6, 2))\n",
    "plt.subplot(1,2,1)\n",
    "best_beta = df.loc[df['r2'].idxmax()]['beta']\n",
    "print(\"Best beta: \",best_beta)\n",
    "plt.plot(df['beta'], df['r2'],label = 'r2')\n",
    "plt.tight_layout()\n",
    "plt.show()\n"
   ],
   "metadata": {
    "collapsed": false
   }
  },
  {
   "cell_type": "markdown",
   "source": [],
   "metadata": {
    "collapsed": false
   }
  },
  {
   "cell_type": "code",
   "execution_count": null,
   "outputs": [],
   "source": [],
   "metadata": {
    "collapsed": false
   }
  }
 ],
 "metadata": {
  "kernelspec": {
   "display_name": "Python 3",
   "language": "python",
   "name": "python3"
  },
  "language_info": {
   "codemirror_mode": {
    "name": "ipython",
    "version": 2
   },
   "file_extension": ".py",
   "mimetype": "text/x-python",
   "name": "python",
   "nbconvert_exporter": "python",
   "pygments_lexer": "ipython2",
   "version": "2.7.6"
  }
 },
 "nbformat": 4,
 "nbformat_minor": 0
}
